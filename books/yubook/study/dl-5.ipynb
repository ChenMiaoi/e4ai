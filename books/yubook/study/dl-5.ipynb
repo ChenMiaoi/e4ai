{
 "cells": [
  {
   "cell_type": "code",
   "id": "initial_id",
   "metadata": {
    "collapsed": true,
    "ExecuteTime": {
     "end_time": "2025-09-25T03:02:47.589959Z",
     "start_time": "2025-09-25T03:02:47.588041Z"
    }
   },
   "source": [
    "import numpy as np\n",
    "import matplotlib.pyplot as plt\n",
    "from mpl_toolkits.mplot3d import Axes3D\n",
    "\n",
    "from books.yubook.common.functions import softmax, cross_entropy_error\n",
    "from books.yubook.datasets import mnist\n",
    "from books.yubook.project3.two_layer_net import TwoLayerNet"
   ],
   "outputs": [],
   "execution_count": 2
  },
  {
   "metadata": {},
   "cell_type": "markdown",
   "source": [
    "链式法则：\n",
    "\n",
    "$$\n",
    "\\frac{\\delta z}{\\delta x} = \\frac{\\delta z}{\\delta t} \\frac{\\delta t}{\\delta x}\n",
    "$$\n",
    "\n",
    "**加法节点的反向传播只是将信号反向传播到下一个节点**。\n",
    "\n",
    "**乘法节点的反向传播会乘上一个翻转值传播到下一个节点**，例如，$z = xy$，那么就有$\\delta x = \\frac{\\delta L}{\\delta z} y$"
   ],
   "id": "ae5d7f75be33117"
  },
  {
   "metadata": {
    "ExecuteTime": {
     "end_time": "2025-09-25T06:23:01.379666Z",
     "start_time": "2025-09-25T06:23:01.375852Z"
    }
   },
   "cell_type": "code",
   "source": [
    "class MulLayer:\n",
    "    def __init__(self):\n",
    "        self.x = None\n",
    "        self.y = None\n",
    "\n",
    "    def forward(self, x, y):\n",
    "        self.x = x\n",
    "        self.y = y\n",
    "        return x * y\n",
    "\n",
    "    def backward(self, dout):\n",
    "        dx = dout * self.y\n",
    "        dy = dout * self.x\n",
    "\n",
    "        return dx, dy\n",
    "\n",
    "apple = 100\n",
    "apple_num = 2\n",
    "tax = 1.1\n",
    "\n",
    "mul_apple_layer = MulLayer()\n",
    "mul_tax_layer = MulLayer()\n",
    "\n",
    "apple_price = mul_apple_layer.forward(apple, apple_num)\n",
    "price = mul_tax_layer.forward(apple_price, tax)\n",
    "print(price)\n",
    "\n",
    "dprice = 1\n",
    "dapple_price, dtax = mul_tax_layer.backward(dprice)\n",
    "dapple, dapple_num = mul_apple_layer.backward(dapple_price)\n",
    "print(dapple, dapple_num, dtax)"
   ],
   "id": "2976447714627d7b",
   "outputs": [
    {
     "name": "stdout",
     "output_type": "stream",
     "text": [
      "220.00000000000003\n",
      "2.2 110.00000000000001 200\n"
     ]
    }
   ],
   "execution_count": 5
  },
  {
   "metadata": {
    "ExecuteTime": {
     "end_time": "2025-09-25T06:47:41.537710Z",
     "start_time": "2025-09-25T06:47:41.533872Z"
    }
   },
   "cell_type": "code",
   "source": [
    "class AddLayer:\n",
    "    def __init__(self):\n",
    "        self.x = None\n",
    "        self.y = None\n",
    "\n",
    "    def forward(self, x, y):\n",
    "        return x + y\n",
    "\n",
    "    def backward(self, dout):\n",
    "        dx = dout * 1\n",
    "        dy = dout * 1\n",
    "        return dx, dy\n",
    "\n",
    "apple = 100\n",
    "apple_num = 2\n",
    "orange = 150\n",
    "orange_num = 3\n",
    "tax = 1.1\n",
    "\n",
    "mul_apple_layer = MulLayer()\n",
    "mul_organge_layer = MulLayer()\n",
    "add_apple_orange_layer = AddLayer()\n",
    "mul_tax_layer = MulLayer()\n",
    "\n",
    "apple_price = mul_apple_layer.forward(apple, apple_num)\n",
    "orange_price = mul_organge_layer.forward(orange, orange_num)\n",
    "all_price = add_apple_orange_layer.forward(apple_price, orange_price)\n",
    "price = mul_tax_layer.forward(all_price, tax)\n",
    "print(price)\n",
    "\n",
    "dprice = 1\n",
    "dall_price, dtax = mul_tax_layer.backward(dprice)\n",
    "dapple_price, dorange_price = add_apple_orange_layer.backward(dall_price)\n",
    "dorange, dorange_num = mul_organge_layer.backward(dorange_price)\n",
    "dapple, dapple_num = mul_apple_layer.backward(dapple_price)\n",
    "\n",
    "print(price, dapple, dapple_num, dorange, dorange_num, dtax)"
   ],
   "id": "467ed5c1e1302f30",
   "outputs": [
    {
     "name": "stdout",
     "output_type": "stream",
     "text": [
      "715.0000000000001\n",
      "715.0000000000001 2.2 110.00000000000001 3.3000000000000003 165.0 650\n"
     ]
    }
   ],
   "execution_count": 9
  },
  {
   "metadata": {},
   "cell_type": "markdown",
   "source": [
    "ReLU Layer:\n",
    "\n",
    "$$\n",
    "y = \\left\\{\\begin{aligned}\n",
    "x \\quad (x \\gt 0) \\\\\n",
    "0 \\quad (x \\le 0)\n",
    "\\end{aligned}\\right.\n",
    "$$\n",
    "\n",
    "$$\n",
    "\\frac{\\delta y}{\\delta x} = \\left\\{\\begin{aligned}\n",
    "1 \\quad (x \\gt 0) \\\\\n",
    "0 \\quad (x \\le 0)\n",
    "\\end{aligned}\\right.\n",
    "$$"
   ],
   "id": "1a18052152cd32a3"
  },
  {
   "metadata": {
    "ExecuteTime": {
     "end_time": "2025-09-25T07:01:28.569546Z",
     "start_time": "2025-09-25T07:01:28.566293Z"
    }
   },
   "cell_type": "code",
   "source": [
    "class ReLU:\n",
    "    def __init__(self):\n",
    "        self.mask = None\n",
    "\n",
    "    def forward(self, x):\n",
    "        self.mask = (x <= 0)\n",
    "        out = x.copy()\n",
    "        out[self.mask] = 0\n",
    "\n",
    "        return out\n",
    "\n",
    "    def backward(self, dout):\n",
    "        dout[self.mask] = 0\n",
    "        return dout"
   ],
   "id": "295e3ef850f37908",
   "outputs": [],
   "execution_count": 10
  },
  {
   "metadata": {},
   "cell_type": "markdown",
   "source": [
    "Sigmoid Layer:\n",
    "\n",
    "$$\n",
    "y = \\frac{1}{1 + e^{-x}}\n",
    "$$\n",
    "\n",
    "$$\n",
    "\\begin{aligned}\n",
    "\\frac{\\delta L}{\\delta y} &= \\frac{\\delta L}{\\delta y}y^2e^{-x} \\\\\n",
    "    &= \\frac{\\delta L}{\\delta y}\\frac{1}{(1 + e^{-x})^2}e^{-x} \\\\\n",
    "    &= \\frac{\\delta L}{\\delta y}\\frac{1}{(1 + e^{-x})}\\frac{e^{-x}}{(1 + e^{-x})^2} \\\\\n",
    "    &= \\frac{\\delta L}{\\delta y}y(1 - y)\n",
    "\\end{aligned}\n",
    "$$"
   ],
   "id": "14890ed79158c96b"
  },
  {
   "metadata": {},
   "cell_type": "code",
   "outputs": [],
   "execution_count": null,
   "source": [
    "class Sigmoid:\n",
    "    def __init__(self):\n",
    "        self.out = None\n",
    "\n",
    "    def forward(self, x):\n",
    "        self.out = 1 / (1 + np.exp(-x))\n",
    "        return self.out\n",
    "\n",
    "    def backward(self, dout):\n",
    "        dx = dout * self.out * (1.0 - self.out)\n",
    "        return dx"
   ],
   "id": "588f38d2357db7d5"
  },
  {
   "metadata": {},
   "cell_type": "markdown",
   "source": [
    "Affine Layer:\n",
    "\n",
    "$$\n",
    "y = x \\times w + b\n",
    "$$\n",
    "\n",
    "$$\n",
    "\\frac{\\delta L}{\\delta X} = \\frac{\\delta L}{\\delta Y} \\cdot W^T\n",
    "$$\n",
    "\n",
    "$$\n",
    "\\frac{\\delta L}{\\delta W} = X^T \\cdot \\frac{\\delta L}{\\delta Y}\n",
    "$$\n",
    "\n",
    "$$\n",
    "\\frac{\\delta L}{\\delta B} = \\frac{\\delta L}{\\delta Y}\n",
    "$$"
   ],
   "id": "e6d3b036617b775c"
  },
  {
   "metadata": {},
   "cell_type": "code",
   "outputs": [],
   "execution_count": null,
   "source": [
    "class Affine:\n",
    "    def __init__(self, W, b):\n",
    "        self.W = W\n",
    "        self.b = b\n",
    "        self.x = None\n",
    "        self.dW = None\n",
    "        self.db = None\n",
    "\n",
    "    def forward(self, x):\n",
    "        self.x = x\n",
    "        return np.dot(self.x, self.W) + self.b\n",
    "\n",
    "    def backward(self, dout):\n",
    "        dx = np.dot(dout, self.W.T)\n",
    "        self.dW = np.dot(self.x.T, dout)\n",
    "        self.db = np.sum(dout, axis=0)\n",
    "\n",
    "        return dx"
   ],
   "id": "87a7e4e7a921046a"
  },
  {
   "metadata": {},
   "cell_type": "markdown",
   "source": [
    "经典多重感知机:\n",
    "\n",
    "$$\n",
    "Input \\longrightarrow (Affine -> ReLU) \\times N \\longrightarrow Affine \\longrightarrow Softmax\n",
    "\\longrightarrow Output\n",
    "$$\n",
    "\n",
    "经典多分类概率问题"
   ],
   "id": "2cb68a78e2484a17"
  },
  {
   "metadata": {},
   "cell_type": "markdown",
   "source": [
    "Softmax Layer(Softmax with Loss Layer):\n",
    "\n",
    "$$\n",
    "\\frac{\\delta L}{\\delta a} = y - t\n",
    "$$"
   ],
   "id": "6a60e55ea6bbcffc"
  },
  {
   "metadata": {},
   "cell_type": "code",
   "outputs": [],
   "execution_count": null,
   "source": [
    "class SoftmaxWithLoss:\n",
    "    def __init__(self):\n",
    "        self.loss = None\n",
    "        self.y = None\n",
    "        self.t = None\n",
    "\n",
    "    def forward(self, x, t):\n",
    "        self.t = t\n",
    "        self.y = softmax(x)\n",
    "        self.loss = cross_entropy_error(self.y, self.t)\n",
    "\n",
    "        return self.loss\n",
    "\n",
    "    def backward(self, dout = 1):\n",
    "        batch_size = self.t.shape[0]\n",
    "        dx = (self.y - self.t) / batch_size     # for single x\n",
    "\n",
    "        return dx"
   ],
   "id": "f4c933080a506465"
  },
  {
   "metadata": {
    "ExecuteTime": {
     "end_time": "2025-09-25T08:23:40.587482Z",
     "start_time": "2025-09-25T08:23:28.726202Z"
    }
   },
   "cell_type": "code",
   "source": [
    "from books.yubook.datasets import mnist\n",
    "from books.yubook.project3.two_layer_net import TwoLayerNet\n",
    "\n",
    "(x_train, t_train), (x_test, t_test) = mnist.load_mnist(normalize=True, one_hot_label=True)\n",
    "\n",
    "network = TwoLayerNet(input_size=784, hidden_size=100, output_size=10)\n",
    "\n",
    "iters_num = 10000\n",
    "train_size = x_train.shape[0]\n",
    "batch_size = 100\n",
    "learning_rate = 0.1\n",
    "\n",
    "train_loss_list = []\n",
    "train_acc_list = []\n",
    "test_acc_list = []\n",
    "\n",
    "iter_per_epoch = max(train_size / batch_size, 1)\n",
    "\n",
    "for epoch in range(iters_num):\n",
    "    batch_mask = np.random.choice(train_size, batch_size)\n",
    "    x_batch = x_train[batch_mask]\n",
    "    t_batch = t_train[batch_mask]\n",
    "\n",
    "    grad = network.gradient(x_batch, t_batch)\n",
    "\n",
    "    for key in ('W1', 'b1', 'W2', 'b2'):\n",
    "        network.params[key] -= learning_rate * grad[key]\n",
    "\n",
    "    loss = network.loss(x_batch, t_batch)\n",
    "    train_loss_list.append(loss)\n",
    "\n",
    "    if epoch % iter_per_epoch == 0:\n",
    "        train_acc = network.accuracy(x_train, t_train)\n",
    "        test_acc = network.accuracy(x_test, t_test)\n",
    "        train_acc_list.append(train_acc)\n",
    "        test_acc_list.append(test_acc)\n",
    "        print(\"train_acc={:.4f}, test_acc={:.4f}, loss={:.4f}\".format(train_acc, test_acc, loss))\n",
    "\n",
    "# x_batch = x_train[:3]\n",
    "# t_batch = t_train[:3]\n",
    "#\n",
    "# grad_backprop = network.gradient(x_batch, t_batch)\n",
    "# print(grad_backprop)"
   ],
   "id": "787d8e544999306e",
   "outputs": [
    {
     "name": "stdout",
     "output_type": "stream",
     "text": [
      "train_acc=0.1135, test_acc=0.1159, loss=2.2990\n",
      "train_acc=0.9070, test_acc=0.9116, loss=0.1892\n",
      "train_acc=0.9229, test_acc=0.9273, loss=0.2193\n",
      "train_acc=0.9404, test_acc=0.9392, loss=0.1694\n",
      "train_acc=0.9499, test_acc=0.9479, loss=0.1567\n",
      "train_acc=0.9570, test_acc=0.9539, loss=0.2089\n",
      "train_acc=0.9610, test_acc=0.9578, loss=0.1355\n",
      "train_acc=0.9661, test_acc=0.9612, loss=0.0901\n",
      "train_acc=0.9697, test_acc=0.9646, loss=0.0989\n",
      "train_acc=0.9728, test_acc=0.9684, loss=0.1183\n",
      "train_acc=0.9751, test_acc=0.9687, loss=0.0903\n",
      "train_acc=0.9770, test_acc=0.9702, loss=0.0564\n",
      "train_acc=0.9791, test_acc=0.9719, loss=0.0631\n",
      "train_acc=0.9802, test_acc=0.9719, loss=0.0331\n",
      "train_acc=0.9818, test_acc=0.9738, loss=0.0483\n",
      "train_acc=0.9825, test_acc=0.9738, loss=0.0706\n",
      "train_acc=0.9833, test_acc=0.9732, loss=0.0359\n"
     ]
    }
   ],
   "execution_count": 15
  }
 ],
 "metadata": {
  "kernelspec": {
   "display_name": "Python 3",
   "language": "python",
   "name": "python3"
  },
  "language_info": {
   "codemirror_mode": {
    "name": "ipython",
    "version": 2
   },
   "file_extension": ".py",
   "mimetype": "text/x-python",
   "name": "python",
   "nbconvert_exporter": "python",
   "pygments_lexer": "ipython2",
   "version": "2.7.6"
  }
 },
 "nbformat": 4,
 "nbformat_minor": 5
}
